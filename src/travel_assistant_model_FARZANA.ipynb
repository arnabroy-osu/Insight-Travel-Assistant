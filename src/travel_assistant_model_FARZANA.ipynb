{
 "cells": [
  {
   "cell_type": "code",
   "execution_count": 2,
   "metadata": {},
   "outputs": [],
   "source": [
    "import pandas as pd\n",
    "import data_utility\n",
    "from textblob import TextBlob  # For sentiment analysis"
   ]
  },
  {
   "cell_type": "code",
   "execution_count": 3,
   "metadata": {},
   "outputs": [
    {
     "data": {
      "text/html": [
       "<div>\n",
       "<style scoped>\n",
       "    .dataframe tbody tr th:only-of-type {\n",
       "        vertical-align: middle;\n",
       "    }\n",
       "\n",
       "    .dataframe tbody tr th {\n",
       "        vertical-align: top;\n",
       "    }\n",
       "\n",
       "    .dataframe thead th {\n",
       "        text-align: right;\n",
       "    }\n",
       "</style>\n",
       "<table border=\"1\" class=\"dataframe\">\n",
       "  <thead>\n",
       "    <tr style=\"text-align: right;\">\n",
       "      <th></th>\n",
       "      <th>id</th>\n",
       "      <th>dateAdded</th>\n",
       "      <th>dateUpdated</th>\n",
       "      <th>address</th>\n",
       "      <th>categories</th>\n",
       "      <th>primaryCategories</th>\n",
       "      <th>city</th>\n",
       "      <th>country</th>\n",
       "      <th>keys</th>\n",
       "      <th>latitude</th>\n",
       "      <th>...</th>\n",
       "      <th>reviews.dateSeen</th>\n",
       "      <th>reviews.rating</th>\n",
       "      <th>reviews.sourceURLs</th>\n",
       "      <th>reviews.text</th>\n",
       "      <th>reviews.title</th>\n",
       "      <th>reviews.userCity</th>\n",
       "      <th>reviews.userProvince</th>\n",
       "      <th>reviews.username</th>\n",
       "      <th>sourceURLs</th>\n",
       "      <th>websites</th>\n",
       "    </tr>\n",
       "  </thead>\n",
       "  <tbody>\n",
       "    <tr>\n",
       "      <th>0</th>\n",
       "      <td>AWE2FvX5RxPSIh2RscTK</td>\n",
       "      <td>2018-01-18T18:43:12Z</td>\n",
       "      <td>2019-05-20T23:55:47Z</td>\n",
       "      <td>5620 Calle Real</td>\n",
       "      <td>Hotels,Hotels and motels,Hotel and motel mgmt....</td>\n",
       "      <td>Accommodation &amp; Food Services</td>\n",
       "      <td>Goleta</td>\n",
       "      <td>US</td>\n",
       "      <td>us/ca/goleta/5620callereal/-1127060008</td>\n",
       "      <td>34.44178</td>\n",
       "      <td>...</td>\n",
       "      <td>2018-01-03T00:00:00Z</td>\n",
       "      <td>3.0</td>\n",
       "      <td>https://www.tripadvisor.com/Hotel_Review-g3243...</td>\n",
       "      <td>This hotel was nice and quiet. Did not know, t...</td>\n",
       "      <td>Best Western Plus Hotel</td>\n",
       "      <td>San Jose</td>\n",
       "      <td>UnitedStates</td>\n",
       "      <td>tatsurok2018</td>\n",
       "      <td>https://www.tripadvisor.com/Hotel_Review-g3243...</td>\n",
       "      <td>https://www.bestwestern.com/en_US/book/hotel-r...</td>\n",
       "    </tr>\n",
       "    <tr>\n",
       "      <th>1</th>\n",
       "      <td>AVwcj_OhkufWRAb5wi9T</td>\n",
       "      <td>2016-11-06T20:21:05Z</td>\n",
       "      <td>2019-05-20T23:31:56Z</td>\n",
       "      <td>5th And San Carlos PO Box 3574</td>\n",
       "      <td>Hotels,Lodging,Hotel</td>\n",
       "      <td>Accommodation &amp; Food Services</td>\n",
       "      <td>Carmel by the Sea</td>\n",
       "      <td>US</td>\n",
       "      <td>us/ca/carmelbythesea/5thandsancarlospobox3574/...</td>\n",
       "      <td>36.55722</td>\n",
       "      <td>...</td>\n",
       "      <td>2016-10-09T00:00:00Z</td>\n",
       "      <td>4.0</td>\n",
       "      <td>https://www.tripadvisor.com/Hotel_Review-g3217...</td>\n",
       "      <td>We stayed in the king suite with the separatio...</td>\n",
       "      <td>Clean rooms at solid rates in the heart of Carmel</td>\n",
       "      <td>San Francisco</td>\n",
       "      <td>CA</td>\n",
       "      <td>STEPHEN N</td>\n",
       "      <td>http://www.tripadvisor.com/Hotel_Review-g32172...</td>\n",
       "      <td>http://www.bestwestern.com</td>\n",
       "    </tr>\n",
       "    <tr>\n",
       "      <th>2</th>\n",
       "      <td>AVwcj_OhkufWRAb5wi9T</td>\n",
       "      <td>2016-11-06T20:21:05Z</td>\n",
       "      <td>2019-05-20T23:31:56Z</td>\n",
       "      <td>5th And San Carlos PO Box 3574</td>\n",
       "      <td>Hotels,Lodging,Hotel</td>\n",
       "      <td>Accommodation &amp; Food Services</td>\n",
       "      <td>Carmel by the Sea</td>\n",
       "      <td>US</td>\n",
       "      <td>us/ca/carmelbythesea/5thandsancarlospobox3574/...</td>\n",
       "      <td>36.55722</td>\n",
       "      <td>...</td>\n",
       "      <td>2016-10-09T00:00:00Z</td>\n",
       "      <td>3.0</td>\n",
       "      <td>https://www.tripadvisor.com/Hotel_Review-g3217...</td>\n",
       "      <td>Parking was horrible, somebody ran into my ren...</td>\n",
       "      <td>Business</td>\n",
       "      <td>Prescott Valley</td>\n",
       "      <td>AZ</td>\n",
       "      <td>15Deborah</td>\n",
       "      <td>http://www.tripadvisor.com/Hotel_Review-g32172...</td>\n",
       "      <td>http://www.bestwestern.com</td>\n",
       "    </tr>\n",
       "    <tr>\n",
       "      <th>3</th>\n",
       "      <td>AVwcj_OhkufWRAb5wi9T</td>\n",
       "      <td>2016-11-06T20:21:05Z</td>\n",
       "      <td>2019-05-20T23:31:56Z</td>\n",
       "      <td>5th And San Carlos PO Box 3574</td>\n",
       "      <td>Hotels,Lodging,Hotel</td>\n",
       "      <td>Accommodation &amp; Food Services</td>\n",
       "      <td>Carmel by the Sea</td>\n",
       "      <td>US</td>\n",
       "      <td>us/ca/carmelbythesea/5thandsancarlospobox3574/...</td>\n",
       "      <td>36.55722</td>\n",
       "      <td>...</td>\n",
       "      <td>2016-10-31T00:00:00Z</td>\n",
       "      <td>5.0</td>\n",
       "      <td>https://www.tripadvisor.com/Hotel_Review-g3217...</td>\n",
       "      <td>Not cheap but excellent location. Price is som...</td>\n",
       "      <td>Very good</td>\n",
       "      <td>Guaynabo</td>\n",
       "      <td>PR</td>\n",
       "      <td>Wilfredo M</td>\n",
       "      <td>http://www.tripadvisor.com/Hotel_Review-g32172...</td>\n",
       "      <td>http://www.bestwestern.com</td>\n",
       "    </tr>\n",
       "    <tr>\n",
       "      <th>4</th>\n",
       "      <td>AVwcj_OhkufWRAb5wi9T</td>\n",
       "      <td>2016-11-06T20:21:05Z</td>\n",
       "      <td>2019-05-20T23:31:56Z</td>\n",
       "      <td>5th And San Carlos PO Box 3574</td>\n",
       "      <td>Hotels,Lodging,Hotel</td>\n",
       "      <td>Accommodation &amp; Food Services</td>\n",
       "      <td>Carmel by the Sea</td>\n",
       "      <td>US</td>\n",
       "      <td>us/ca/carmelbythesea/5thandsancarlospobox3574/...</td>\n",
       "      <td>36.55722</td>\n",
       "      <td>...</td>\n",
       "      <td>2016-10-09T00:00:00Z,2016-03-27T00:00:00Z</td>\n",
       "      <td>2.0</td>\n",
       "      <td>https://www.tripadvisor.com/Hotel_Review-g3217...</td>\n",
       "      <td>If you get the room that they advertised on th...</td>\n",
       "      <td>Low chance to come back here</td>\n",
       "      <td>Reno</td>\n",
       "      <td>NV</td>\n",
       "      <td>Luc D</td>\n",
       "      <td>http://www.tripadvisor.com/Hotel_Review-g32172...</td>\n",
       "      <td>http://www.bestwestern.com</td>\n",
       "    </tr>\n",
       "  </tbody>\n",
       "</table>\n",
       "<p>5 rows × 25 columns</p>\n",
       "</div>"
      ],
      "text/plain": [
       "                     id             dateAdded           dateUpdated  \\\n",
       "0  AWE2FvX5RxPSIh2RscTK  2018-01-18T18:43:12Z  2019-05-20T23:55:47Z   \n",
       "1  AVwcj_OhkufWRAb5wi9T  2016-11-06T20:21:05Z  2019-05-20T23:31:56Z   \n",
       "2  AVwcj_OhkufWRAb5wi9T  2016-11-06T20:21:05Z  2019-05-20T23:31:56Z   \n",
       "3  AVwcj_OhkufWRAb5wi9T  2016-11-06T20:21:05Z  2019-05-20T23:31:56Z   \n",
       "4  AVwcj_OhkufWRAb5wi9T  2016-11-06T20:21:05Z  2019-05-20T23:31:56Z   \n",
       "\n",
       "                          address  \\\n",
       "0                 5620 Calle Real   \n",
       "1  5th And San Carlos PO Box 3574   \n",
       "2  5th And San Carlos PO Box 3574   \n",
       "3  5th And San Carlos PO Box 3574   \n",
       "4  5th And San Carlos PO Box 3574   \n",
       "\n",
       "                                          categories  \\\n",
       "0  Hotels,Hotels and motels,Hotel and motel mgmt....   \n",
       "1                               Hotels,Lodging,Hotel   \n",
       "2                               Hotels,Lodging,Hotel   \n",
       "3                               Hotels,Lodging,Hotel   \n",
       "4                               Hotels,Lodging,Hotel   \n",
       "\n",
       "               primaryCategories               city country  \\\n",
       "0  Accommodation & Food Services             Goleta      US   \n",
       "1  Accommodation & Food Services  Carmel by the Sea      US   \n",
       "2  Accommodation & Food Services  Carmel by the Sea      US   \n",
       "3  Accommodation & Food Services  Carmel by the Sea      US   \n",
       "4  Accommodation & Food Services  Carmel by the Sea      US   \n",
       "\n",
       "                                                keys  latitude  ...  \\\n",
       "0             us/ca/goleta/5620callereal/-1127060008  34.44178  ...   \n",
       "1  us/ca/carmelbythesea/5thandsancarlospobox3574/...  36.55722  ...   \n",
       "2  us/ca/carmelbythesea/5thandsancarlospobox3574/...  36.55722  ...   \n",
       "3  us/ca/carmelbythesea/5thandsancarlospobox3574/...  36.55722  ...   \n",
       "4  us/ca/carmelbythesea/5thandsancarlospobox3574/...  36.55722  ...   \n",
       "\n",
       "                            reviews.dateSeen reviews.rating  \\\n",
       "0                       2018-01-03T00:00:00Z            3.0   \n",
       "1                       2016-10-09T00:00:00Z            4.0   \n",
       "2                       2016-10-09T00:00:00Z            3.0   \n",
       "3                       2016-10-31T00:00:00Z            5.0   \n",
       "4  2016-10-09T00:00:00Z,2016-03-27T00:00:00Z            2.0   \n",
       "\n",
       "                                  reviews.sourceURLs  \\\n",
       "0  https://www.tripadvisor.com/Hotel_Review-g3243...   \n",
       "1  https://www.tripadvisor.com/Hotel_Review-g3217...   \n",
       "2  https://www.tripadvisor.com/Hotel_Review-g3217...   \n",
       "3  https://www.tripadvisor.com/Hotel_Review-g3217...   \n",
       "4  https://www.tripadvisor.com/Hotel_Review-g3217...   \n",
       "\n",
       "                                        reviews.text  \\\n",
       "0  This hotel was nice and quiet. Did not know, t...   \n",
       "1  We stayed in the king suite with the separatio...   \n",
       "2  Parking was horrible, somebody ran into my ren...   \n",
       "3  Not cheap but excellent location. Price is som...   \n",
       "4  If you get the room that they advertised on th...   \n",
       "\n",
       "                                       reviews.title reviews.userCity  \\\n",
       "0                            Best Western Plus Hotel         San Jose   \n",
       "1  Clean rooms at solid rates in the heart of Carmel    San Francisco   \n",
       "2                                           Business  Prescott Valley   \n",
       "3                                          Very good         Guaynabo   \n",
       "4                       Low chance to come back here             Reno   \n",
       "\n",
       "   reviews.userProvince reviews.username  \\\n",
       "0          UnitedStates     tatsurok2018   \n",
       "1                    CA        STEPHEN N   \n",
       "2                    AZ        15Deborah   \n",
       "3                    PR       Wilfredo M   \n",
       "4                    NV            Luc D   \n",
       "\n",
       "                                          sourceURLs  \\\n",
       "0  https://www.tripadvisor.com/Hotel_Review-g3243...   \n",
       "1  http://www.tripadvisor.com/Hotel_Review-g32172...   \n",
       "2  http://www.tripadvisor.com/Hotel_Review-g32172...   \n",
       "3  http://www.tripadvisor.com/Hotel_Review-g32172...   \n",
       "4  http://www.tripadvisor.com/Hotel_Review-g32172...   \n",
       "\n",
       "                                            websites  \n",
       "0  https://www.bestwestern.com/en_US/book/hotel-r...  \n",
       "1                         http://www.bestwestern.com  \n",
       "2                         http://www.bestwestern.com  \n",
       "3                         http://www.bestwestern.com  \n",
       "4                         http://www.bestwestern.com  \n",
       "\n",
       "[5 rows x 25 columns]"
      ]
     },
     "execution_count": 3,
     "metadata": {},
     "output_type": "execute_result"
    }
   ],
   "source": [
    "hotel_reviews_df = data_utility.get_hotel_reviews()\n",
    "hotel_reviews_df.head(5)"
   ]
  },
  {
   "cell_type": "code",
   "execution_count": 4,
   "metadata": {},
   "outputs": [],
   "source": [
    "# Function to greet the user\n",
    "def greet_user():\n",
    "    return \"Hello! Welcome to InnSight, your personal hotel recommender system. Please choose a state to get started.\"  \n",
    "\n",
    "#Function to get the unique states\n",
    "def get_state():\n",
    "    return hotel_reviews_df['province'].unique()\n",
    "\n",
    "# Function to make list of cities in a state\n",
    "def get_cities(state):\n",
    "    return hotel_reviews_df[hotel_reviews_df['province'] == state]['city'].unique()\n",
    "        \n",
    "# Function to filter hotels by city\n",
    "def filter_hotels_by_city(city):\n",
    "    return hotel_reviews_df[hotel_reviews_df['city'].str.lower() == city.lower()]\n",
    "\n",
    "# Function to recommend top hotels\n",
    "def recommend_top_hotels(city, top_n=5):\n",
    "    city_hotels = filter_hotels_by_city(city)\n",
    "    top_hotels = city_hotels.groupby('name')['reviews.rating'].mean().sort_values(ascending=False).head(top_n)\n",
    "    return top_hotels\n",
    "\n",
    "# Function for sentiment analysis\n",
    "def analyze_sentiment(text):\n",
    "    analysis = TextBlob(text)\n",
    "    if analysis.sentiment.polarity > 0.5:\n",
    "        return 'Better'\n",
    "    elif analysis.sentiment.polarity > 0:\n",
    "        return 'Good'\n",
    "    else:\n",
    "        return 'Neutral or Negative'\n",
    "\n",
    "# Function to categorize reviews of a hotel\n",
    "def categorize_reviews(hotel_name):\n",
    "    hotel_reviews = hotel_reviews_df[hotel_reviews_df['name'].str.contains(hotel_name, case=False, na=False)]['reviews.text']\n",
    "    sentiment_analysis = hotel_reviews.apply(analyze_sentiment)\n",
    "    return sentiment_analysis.value_counts()\n",
    "\n",
    "# Function to get the average rating of a hotel\n",
    "def get_average_rating(hotel_name):\n",
    "    return hotel_reviews_df[hotel_reviews_df['name'].str.contains(hotel_name, case=False, na=False)]['reviews.rating'].mean()\n",
    "    \n",
    "\n",
    "# Function to check if a hotel is in the top 5\n",
    "def is_hotel_in_top5(city, hotel_name):\n",
    "    top_hotels = recommend_top_hotels(city)\n",
    "    return hotel_name in top_hotels.index\n",
    "\n",
    "#Function to check duplicate cities in the dataset\n",
    "def check_duplicate_cities():\n",
    "    return hotel_reviews_df['city'].duplicated().sum()\n",
    " \n",
    "#Function to check duplicate hotel names in cities and states\n",
    "def check_duplicate_hotels():\n",
    "    return hotel_reviews_df['name'].duplicated().sum()\n"
   ]
  },
  {
   "cell_type": "code",
   "execution_count": 5,
   "metadata": {},
   "outputs": [
    {
     "name": "stdout",
     "output_type": "stream",
     "text": [
      "Hello! Welcome to InnSight, your personal hotel recommender system. Please choose a state to get started.\n"
     ]
    }
   ],
   "source": [
    "# Greet user\n",
    "print(greet_user())"
   ]
  },
  {
   "cell_type": "code",
   "execution_count": 6,
   "metadata": {},
   "outputs": [
    {
     "name": "stdout",
     "output_type": "stream",
     "text": [
      "['CA' 'KY' 'LA' 'CO' 'IL' 'IN' 'FL' 'AK' 'GA' 'AL' 'AZ' 'AR' 'OR' 'WA'\n",
      " 'UT' 'TX' 'TN' 'SC' 'PA' 'OH' 'NY' 'NM' 'MD' 'MI' 'MS' 'MO' 'IA' 'VA'\n",
      " 'WI' 'HI' 'ID' 'NV' 'WV' 'WY' 'KS' 'MN' 'NE' 'ND' 'DE' 'OK' 'NC' 'MT'\n",
      " 'SD' 'RI' 'NJ' 'MA' 'NH' 'ME' 'VT' 'CT']\n"
     ]
    }
   ],
   "source": [
    "# Show the list of unique states\n",
    "print(get_state())\n"
   ]
  },
  {
   "cell_type": "code",
   "execution_count": 7,
   "metadata": {},
   "outputs": [
    {
     "name": "stdout",
     "output_type": "stream",
     "text": [
      "KY\n"
     ]
    }
   ],
   "source": [
    "# Let the user choose a state\n",
    "state = input(\"Please enter a state: \")\n",
    "state = state.upper()\n",
    "print(state)\n"
   ]
  },
  {
   "cell_type": "code",
   "execution_count": 8,
   "metadata": {},
   "outputs": [
    {
     "name": "stdout",
     "output_type": "stream",
     "text": [
      "You entered: KY\n"
     ]
    }
   ],
   "source": [
    "# # Printing the user input\n",
    "print(\"You entered:\", state)"
   ]
  },
  {
   "cell_type": "code",
   "execution_count": 9,
   "metadata": {},
   "outputs": [
    {
     "name": "stdout",
     "output_type": "stream",
     "text": [
      "Here are the cities in KY :\n",
      "['Lexington' 'Russell Springs' 'Hopkinsville' 'Pikeville' 'Louisville'\n",
      " 'Irvine' 'Bardstown' 'Bowling Green' 'Franklin' 'Owensboro' 'Somerset'\n",
      " 'Henderson' 'Corbin' 'Florence' 'Carrollton' 'Murray' 'Danville'\n",
      " 'Richmond' 'Lebanon' 'Erlanger' 'Ashland' 'Cave City' 'Horse Cave']\n"
     ]
    }
   ],
   "source": [
    "# Show the list of cities in the chosen state\n",
    "print(\"Here are the cities in\", state, \":\")\n",
    "print(get_cities(state))"
   ]
  },
  {
   "cell_type": "code",
   "execution_count": 10,
   "metadata": {},
   "outputs": [
    {
     "name": "stdout",
     "output_type": "stream",
     "text": [
      "Lexington\n"
     ]
    }
   ],
   "source": [
    "# Let the user choose a city\n",
    "city = input(\"Please enter a city: \")\n",
    "city = city.title()\n",
    "print(city)\n"
   ]
  },
  {
   "cell_type": "code",
   "execution_count": 11,
   "metadata": {},
   "outputs": [
    {
     "name": "stdout",
     "output_type": "stream",
     "text": [
      "Here are the hotels in Lexington :\n",
      "['21c Museum Hotel Lexington' 'Microtel Inn Suites By Wyndham Lexington'\n",
      " 'Hampton Inn Lexington Medical Center' \"America's Best Value Inn\"\n",
      " 'Motel 6' 'Courtyard Lexington North'\n",
      " 'Residence Inn Lexington South Hamburg Place' 'Quality Inn' 'Comfort Inn'\n",
      " 'Comfort Suites-lexington' 'Harbourfront Motel'\n",
      " 'Residence Inn Lexington North'\n",
      " 'Home2 Suites by Hilton Lexington University / Medical Center'\n",
      " 'Sleep Inn' 'Comfort Suites Lexington']\n"
     ]
    }
   ],
   "source": [
    "# # Filter hotels by city\n",
    "city_hotels = filter_hotels_by_city(city)\n",
    "print(\"Here are the hotels in\", city, \":\")\n",
    "print(city_hotels['name'].unique())"
   ]
  },
  {
   "cell_type": "code",
   "execution_count": 12,
   "metadata": {},
   "outputs": [
    {
     "name": "stdout",
     "output_type": "stream",
     "text": [
      "Top 5 hotels in Lexington :\n",
      "name\n",
      "Comfort Inn                                 5.0\n",
      "Comfort Suites Lexington                    5.0\n",
      "Comfort Suites-lexington                    5.0\n",
      "Hampton Inn Lexington Medical Center        5.0\n",
      "Microtel Inn Suites By Wyndham Lexington    5.0\n",
      "Name: reviews.rating, dtype: float64\n"
     ]
    }
   ],
   "source": [
    "# # Recommend top five hotels in the city\n",
    "top_hotels = recommend_top_hotels(city)\n",
    "print(\"Top 5 hotels in\", city, \":\")\n",
    "print(top_hotels)\n"
   ]
  },
  {
   "cell_type": "code",
   "execution_count": 13,
   "metadata": {},
   "outputs": [
    {
     "name": "stdout",
     "output_type": "stream",
     "text": [
      "You chose SLEEP INN\n",
      "Sentiment analysis of reviews for SLEEP INN :\n",
      "reviews.text\n",
      "Good                   48\n",
      "Better                  6\n",
      "Neutral or Negative     3\n",
      "Name: count, dtype: int64\n"
     ]
    }
   ],
   "source": [
    "# # Analyze sentiment of reviews for a hotel\n",
    "hotel_name = input(\"Please enter a hotel name: \")\n",
    "hotel_name = hotel_name.upper()\n",
    "print(\"You chose\", hotel_name)\n",
    "print(\"Sentiment analysis of reviews for\", hotel_name, \":\")\n",
    "print(categorize_reviews(hotel_name))"
   ]
  }
 ],
 "metadata": {
  "kernelspec": {
   "display_name": "dev",
   "language": "python",
   "name": "python3"
  },
  "language_info": {
   "codemirror_mode": {
    "name": "ipython",
    "version": 3
   },
   "file_extension": ".py",
   "mimetype": "text/x-python",
   "name": "python",
   "nbconvert_exporter": "python",
   "pygments_lexer": "ipython3",
   "version": "3.10.13"
  }
 },
 "nbformat": 4,
 "nbformat_minor": 2
}
