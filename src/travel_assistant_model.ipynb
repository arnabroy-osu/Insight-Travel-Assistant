{
 "cells": [
  {
   "cell_type": "code",
   "execution_count": 20,
   "metadata": {},
   "outputs": [],
   "source": [
    "import pandas as pd\n",
    "import data_utility as du\n",
    "from textblob import TextBlob  # For sentiment analysis"
   ]
  },
  {
   "cell_type": "code",
   "execution_count": 21,
   "metadata": {},
   "outputs": [
    {
     "name": "stderr",
     "output_type": "stream",
     "text": [
      "d:\\osubootcamp\\github\\project3-group3-travel-assistant\\src\\data_utility.py:23: FutureWarning: The behavior of DataFrame concatenation with empty or all-NA entries is deprecated. In a future version, this will no longer exclude empty or all-NA columns when determining the result dtypes. To retain the old behavior, exclude the relevant entries before the concat operation.\n",
      "  \n"
     ]
    },
    {
     "data": {
      "text/html": [
       "<div>\n",
       "<style scoped>\n",
       "    .dataframe tbody tr th:only-of-type {\n",
       "        vertical-align: middle;\n",
       "    }\n",
       "\n",
       "    .dataframe tbody tr th {\n",
       "        vertical-align: top;\n",
       "    }\n",
       "\n",
       "    .dataframe thead th {\n",
       "        text-align: right;\n",
       "    }\n",
       "</style>\n",
       "<table border=\"1\" class=\"dataframe\">\n",
       "  <thead>\n",
       "    <tr style=\"text-align: right;\">\n",
       "      <th></th>\n",
       "      <th>id</th>\n",
       "      <th>dateAdded</th>\n",
       "      <th>dateUpdated</th>\n",
       "      <th>address</th>\n",
       "      <th>categories</th>\n",
       "      <th>primaryCategories</th>\n",
       "      <th>city</th>\n",
       "      <th>country</th>\n",
       "      <th>keys</th>\n",
       "      <th>latitude</th>\n",
       "      <th>...</th>\n",
       "      <th>reviews.dateSeen</th>\n",
       "      <th>reviews.rating</th>\n",
       "      <th>reviews.sourceURLs</th>\n",
       "      <th>reviews.text</th>\n",
       "      <th>reviews.title</th>\n",
       "      <th>reviews.userCity</th>\n",
       "      <th>reviews.userProvince</th>\n",
       "      <th>reviews.username</th>\n",
       "      <th>sourceURLs</th>\n",
       "      <th>websites</th>\n",
       "    </tr>\n",
       "  </thead>\n",
       "  <tbody>\n",
       "    <tr>\n",
       "      <th>0</th>\n",
       "      <td>AWE2FvX5RxPSIh2RscTK</td>\n",
       "      <td>2018-01-18T18:43:12Z</td>\n",
       "      <td>2019-05-20T23:55:47Z</td>\n",
       "      <td>5620 Calle Real</td>\n",
       "      <td>Hotels,Hotels and motels,Hotel and motel mgmt....</td>\n",
       "      <td>Accommodation &amp; Food Services</td>\n",
       "      <td>Goleta</td>\n",
       "      <td>US</td>\n",
       "      <td>us/ca/goleta/5620callereal/-1127060008</td>\n",
       "      <td>34.44178</td>\n",
       "      <td>...</td>\n",
       "      <td>2018-01-03T00:00:00Z</td>\n",
       "      <td>3.0</td>\n",
       "      <td>https://www.tripadvisor.com/Hotel_Review-g3243...</td>\n",
       "      <td>This hotel was nice and quiet. Did not know, t...</td>\n",
       "      <td>Best Western Plus Hotel</td>\n",
       "      <td>San Jose</td>\n",
       "      <td>UnitedStates</td>\n",
       "      <td>tatsurok2018</td>\n",
       "      <td>https://www.tripadvisor.com/Hotel_Review-g3243...</td>\n",
       "      <td>https://www.bestwestern.com/en_US/book/hotel-r...</td>\n",
       "    </tr>\n",
       "    <tr>\n",
       "      <th>1</th>\n",
       "      <td>AVwcj_OhkufWRAb5wi9T</td>\n",
       "      <td>2016-11-06T20:21:05Z</td>\n",
       "      <td>2019-05-20T23:31:56Z</td>\n",
       "      <td>5th And San Carlos PO Box 3574</td>\n",
       "      <td>Hotels,Lodging,Hotel</td>\n",
       "      <td>Accommodation &amp; Food Services</td>\n",
       "      <td>Carmel by the Sea</td>\n",
       "      <td>US</td>\n",
       "      <td>us/ca/carmelbythesea/5thandsancarlospobox3574/...</td>\n",
       "      <td>36.55722</td>\n",
       "      <td>...</td>\n",
       "      <td>2016-10-09T00:00:00Z</td>\n",
       "      <td>4.0</td>\n",
       "      <td>https://www.tripadvisor.com/Hotel_Review-g3217...</td>\n",
       "      <td>We stayed in the king suite with the separatio...</td>\n",
       "      <td>Clean rooms at solid rates in the heart of Carmel</td>\n",
       "      <td>San Francisco</td>\n",
       "      <td>CA</td>\n",
       "      <td>STEPHEN N</td>\n",
       "      <td>http://www.tripadvisor.com/Hotel_Review-g32172...</td>\n",
       "      <td>http://www.bestwestern.com</td>\n",
       "    </tr>\n",
       "  </tbody>\n",
       "</table>\n",
       "<p>2 rows × 25 columns</p>\n",
       "</div>"
      ],
      "text/plain": [
       "                     id             dateAdded           dateUpdated  \\\n",
       "0  AWE2FvX5RxPSIh2RscTK  2018-01-18T18:43:12Z  2019-05-20T23:55:47Z   \n",
       "1  AVwcj_OhkufWRAb5wi9T  2016-11-06T20:21:05Z  2019-05-20T23:31:56Z   \n",
       "\n",
       "                          address  \\\n",
       "0                 5620 Calle Real   \n",
       "1  5th And San Carlos PO Box 3574   \n",
       "\n",
       "                                          categories  \\\n",
       "0  Hotels,Hotels and motels,Hotel and motel mgmt....   \n",
       "1                               Hotels,Lodging,Hotel   \n",
       "\n",
       "               primaryCategories               city country  \\\n",
       "0  Accommodation & Food Services             Goleta      US   \n",
       "1  Accommodation & Food Services  Carmel by the Sea      US   \n",
       "\n",
       "                                                keys  latitude  ...  \\\n",
       "0             us/ca/goleta/5620callereal/-1127060008  34.44178  ...   \n",
       "1  us/ca/carmelbythesea/5thandsancarlospobox3574/...  36.55722  ...   \n",
       "\n",
       "       reviews.dateSeen reviews.rating  \\\n",
       "0  2018-01-03T00:00:00Z            3.0   \n",
       "1  2016-10-09T00:00:00Z            4.0   \n",
       "\n",
       "                                  reviews.sourceURLs  \\\n",
       "0  https://www.tripadvisor.com/Hotel_Review-g3243...   \n",
       "1  https://www.tripadvisor.com/Hotel_Review-g3217...   \n",
       "\n",
       "                                        reviews.text  \\\n",
       "0  This hotel was nice and quiet. Did not know, t...   \n",
       "1  We stayed in the king suite with the separatio...   \n",
       "\n",
       "                                       reviews.title reviews.userCity  \\\n",
       "0                            Best Western Plus Hotel         San Jose   \n",
       "1  Clean rooms at solid rates in the heart of Carmel    San Francisco   \n",
       "\n",
       "   reviews.userProvince reviews.username  \\\n",
       "0          UnitedStates     tatsurok2018   \n",
       "1                    CA        STEPHEN N   \n",
       "\n",
       "                                          sourceURLs  \\\n",
       "0  https://www.tripadvisor.com/Hotel_Review-g3243...   \n",
       "1  http://www.tripadvisor.com/Hotel_Review-g32172...   \n",
       "\n",
       "                                            websites  \n",
       "0  https://www.bestwestern.com/en_US/book/hotel-r...  \n",
       "1                         http://www.bestwestern.com  \n",
       "\n",
       "[2 rows x 25 columns]"
      ]
     },
     "execution_count": 21,
     "metadata": {},
     "output_type": "execute_result"
    }
   ],
   "source": [
    "hotel_reviews_df = du.get_hotel_reviews()\n",
    "\n",
    "# display some records\n",
    "hotel_reviews_df.head(2)"
   ]
  },
  {
   "cell_type": "code",
   "execution_count": 22,
   "metadata": {},
   "outputs": [
    {
     "data": {
      "text/html": [
       "<div>\n",
       "<style scoped>\n",
       "    .dataframe tbody tr th:only-of-type {\n",
       "        vertical-align: middle;\n",
       "    }\n",
       "\n",
       "    .dataframe tbody tr th {\n",
       "        vertical-align: top;\n",
       "    }\n",
       "\n",
       "    .dataframe thead th {\n",
       "        text-align: right;\n",
       "    }\n",
       "</style>\n",
       "<table border=\"1\" class=\"dataframe\">\n",
       "  <thead>\n",
       "    <tr style=\"text-align: right;\">\n",
       "      <th></th>\n",
       "      <th>dateAdded</th>\n",
       "      <th>address</th>\n",
       "      <th>city</th>\n",
       "      <th>country</th>\n",
       "      <th>latitude</th>\n",
       "      <th>longitude</th>\n",
       "      <th>name</th>\n",
       "      <th>postalCode</th>\n",
       "      <th>province</th>\n",
       "      <th>reviews.rating</th>\n",
       "      <th>reviews.text</th>\n",
       "      <th>reviews.title</th>\n",
       "      <th>websites</th>\n",
       "    </tr>\n",
       "  </thead>\n",
       "  <tbody>\n",
       "    <tr>\n",
       "      <th>0</th>\n",
       "      <td>2018-01-18T18:43:12Z</td>\n",
       "      <td>5620 Calle Real</td>\n",
       "      <td>Goleta</td>\n",
       "      <td>US</td>\n",
       "      <td>34.44178</td>\n",
       "      <td>-119.81979</td>\n",
       "      <td>Best Western Plus South Coast Inn</td>\n",
       "      <td>93117</td>\n",
       "      <td>CA</td>\n",
       "      <td>3.0</td>\n",
       "      <td>This hotel was nice and quiet. Did not know, t...</td>\n",
       "      <td>Best Western Plus Hotel</td>\n",
       "      <td>https://www.bestwestern.com/en_US/book/hotel-r...</td>\n",
       "    </tr>\n",
       "    <tr>\n",
       "      <th>1</th>\n",
       "      <td>2016-11-06T20:21:05Z</td>\n",
       "      <td>5th And San Carlos PO Box 3574</td>\n",
       "      <td>Carmel by the Sea</td>\n",
       "      <td>US</td>\n",
       "      <td>36.55722</td>\n",
       "      <td>-121.92194</td>\n",
       "      <td>Best Western Carmel's Town House Lodge</td>\n",
       "      <td>93921</td>\n",
       "      <td>CA</td>\n",
       "      <td>4.0</td>\n",
       "      <td>We stayed in the king suite with the separatio...</td>\n",
       "      <td>Clean rooms at solid rates in the heart of Carmel</td>\n",
       "      <td>http://www.bestwestern.com</td>\n",
       "    </tr>\n",
       "  </tbody>\n",
       "</table>\n",
       "</div>"
      ],
      "text/plain": [
       "              dateAdded                         address               city  \\\n",
       "0  2018-01-18T18:43:12Z                 5620 Calle Real             Goleta   \n",
       "1  2016-11-06T20:21:05Z  5th And San Carlos PO Box 3574  Carmel by the Sea   \n",
       "\n",
       "  country  latitude  longitude                                    name  \\\n",
       "0      US  34.44178 -119.81979       Best Western Plus South Coast Inn   \n",
       "1      US  36.55722 -121.92194  Best Western Carmel's Town House Lodge   \n",
       "\n",
       "  postalCode province  reviews.rating  \\\n",
       "0      93117       CA             3.0   \n",
       "1      93921       CA             4.0   \n",
       "\n",
       "                                        reviews.text  \\\n",
       "0  This hotel was nice and quiet. Did not know, t...   \n",
       "1  We stayed in the king suite with the separatio...   \n",
       "\n",
       "                                       reviews.title  \\\n",
       "0                            Best Western Plus Hotel   \n",
       "1  Clean rooms at solid rates in the heart of Carmel   \n",
       "\n",
       "                                            websites  \n",
       "0  https://www.bestwestern.com/en_US/book/hotel-r...  \n",
       "1                         http://www.bestwestern.com  "
      ]
     },
     "execution_count": 22,
     "metadata": {},
     "output_type": "execute_result"
    }
   ],
   "source": [
    "# Cleaning the hotel_reviews_df by removing columns review.sourceURLs\n",
    "hotel_reviews_modified_df = hotel_reviews_df.drop(columns=['id','dateUpdated','categories','primaryCategories','reviews.sourceURLs','sourceURLs','keys','reviews.date','reviews.dateSeen','reviews.userCity','reviews.userProvince','reviews.username'], axis=1)\n",
    "\n",
    "# display some records\n",
    "hotel_reviews_modified_df.head(2)"
   ]
  },
  {
   "cell_type": "code",
   "execution_count": 23,
   "metadata": {},
   "outputs": [
    {
     "data": {
      "text/html": [
       "<div>\n",
       "<style scoped>\n",
       "    .dataframe tbody tr th:only-of-type {\n",
       "        vertical-align: middle;\n",
       "    }\n",
       "\n",
       "    .dataframe tbody tr th {\n",
       "        vertical-align: top;\n",
       "    }\n",
       "\n",
       "    .dataframe thead th {\n",
       "        text-align: right;\n",
       "    }\n",
       "</style>\n",
       "<table border=\"1\" class=\"dataframe\">\n",
       "  <thead>\n",
       "    <tr style=\"text-align: right;\">\n",
       "      <th></th>\n",
       "      <th>dateAdded</th>\n",
       "      <th>address</th>\n",
       "      <th>city</th>\n",
       "      <th>country</th>\n",
       "      <th>latitude</th>\n",
       "      <th>longitude</th>\n",
       "      <th>name</th>\n",
       "      <th>postalCode</th>\n",
       "      <th>province</th>\n",
       "      <th>reviews.rating</th>\n",
       "      <th>reviews.text</th>\n",
       "      <th>reviews.title</th>\n",
       "      <th>websites</th>\n",
       "    </tr>\n",
       "  </thead>\n",
       "  <tbody>\n",
       "    <tr>\n",
       "      <th>0</th>\n",
       "      <td>2018-01-18</td>\n",
       "      <td>5620 Calle Real</td>\n",
       "      <td>Goleta</td>\n",
       "      <td>US</td>\n",
       "      <td>34.44178</td>\n",
       "      <td>-119.81979</td>\n",
       "      <td>Best Western Plus South Coast Inn</td>\n",
       "      <td>93117</td>\n",
       "      <td>CA</td>\n",
       "      <td>3.0</td>\n",
       "      <td>This hotel was nice and quiet. Did not know, t...</td>\n",
       "      <td>Best Western Plus Hotel</td>\n",
       "      <td>https://www.bestwestern.com/en_US/book/hotel-r...</td>\n",
       "    </tr>\n",
       "    <tr>\n",
       "      <th>1</th>\n",
       "      <td>2016-11-06</td>\n",
       "      <td>5th And San Carlos PO Box 3574</td>\n",
       "      <td>Carmel by the Sea</td>\n",
       "      <td>US</td>\n",
       "      <td>36.55722</td>\n",
       "      <td>-121.92194</td>\n",
       "      <td>Best Western Carmel's Town House Lodge</td>\n",
       "      <td>93921</td>\n",
       "      <td>CA</td>\n",
       "      <td>4.0</td>\n",
       "      <td>We stayed in the king suite with the separatio...</td>\n",
       "      <td>Clean rooms at solid rates in the heart of Carmel</td>\n",
       "      <td>http://www.bestwestern.com</td>\n",
       "    </tr>\n",
       "  </tbody>\n",
       "</table>\n",
       "</div>"
      ],
      "text/plain": [
       "    dateAdded                         address               city country  \\\n",
       "0  2018-01-18                 5620 Calle Real             Goleta      US   \n",
       "1  2016-11-06  5th And San Carlos PO Box 3574  Carmel by the Sea      US   \n",
       "\n",
       "   latitude  longitude                                    name postalCode  \\\n",
       "0  34.44178 -119.81979       Best Western Plus South Coast Inn      93117   \n",
       "1  36.55722 -121.92194  Best Western Carmel's Town House Lodge      93921   \n",
       "\n",
       "  province  reviews.rating                                       reviews.text  \\\n",
       "0       CA             3.0  This hotel was nice and quiet. Did not know, t...   \n",
       "1       CA             4.0  We stayed in the king suite with the separatio...   \n",
       "\n",
       "                                       reviews.title  \\\n",
       "0                            Best Western Plus Hotel   \n",
       "1  Clean rooms at solid rates in the heart of Carmel   \n",
       "\n",
       "                                            websites  \n",
       "0  https://www.bestwestern.com/en_US/book/hotel-r...  \n",
       "1                         http://www.bestwestern.com  "
      ]
     },
     "execution_count": 23,
     "metadata": {},
     "output_type": "execute_result"
    }
   ],
   "source": [
    "# convert date format to simple date format\n",
    "hotel_reviews_modified_df = du.convert_date_format(hotel_reviews_modified_df, 'dateAdded')\n",
    "hotel_reviews_modified_df.head(2)"
   ]
  },
  {
   "cell_type": "code",
   "execution_count": 24,
   "metadata": {},
   "outputs": [],
   "source": [
    "# convert reviews.text column to string and lowercase\n",
    "hotel_reviews_modified_df['reviews.text'] = hotel_reviews_modified_df['reviews.text'].astype(str)\n",
    "hotel_reviews_modified_df['reviews.text'] = hotel_reviews_modified_df['reviews.text'].apply(lambda x: x.lower())"
   ]
  },
  {
   "cell_type": "code",
   "execution_count": 25,
   "metadata": {},
   "outputs": [
    {
     "data": {
      "text/html": [
       "<div>\n",
       "<style scoped>\n",
       "    .dataframe tbody tr th:only-of-type {\n",
       "        vertical-align: middle;\n",
       "    }\n",
       "\n",
       "    .dataframe tbody tr th {\n",
       "        vertical-align: top;\n",
       "    }\n",
       "\n",
       "    .dataframe thead th {\n",
       "        text-align: right;\n",
       "    }\n",
       "</style>\n",
       "<table border=\"1\" class=\"dataframe\">\n",
       "  <thead>\n",
       "    <tr style=\"text-align: right;\">\n",
       "      <th></th>\n",
       "      <th>dateAdded</th>\n",
       "      <th>address</th>\n",
       "      <th>city</th>\n",
       "      <th>country</th>\n",
       "      <th>latitude</th>\n",
       "      <th>longitude</th>\n",
       "      <th>name</th>\n",
       "      <th>postalCode</th>\n",
       "      <th>province</th>\n",
       "      <th>reviews.rating</th>\n",
       "      <th>reviews.text</th>\n",
       "      <th>reviews.title</th>\n",
       "      <th>websites</th>\n",
       "      <th>tokenized_reviews_text</th>\n",
       "    </tr>\n",
       "  </thead>\n",
       "  <tbody>\n",
       "    <tr>\n",
       "      <th>0</th>\n",
       "      <td>2018-01-18</td>\n",
       "      <td>5620 Calle Real</td>\n",
       "      <td>Goleta</td>\n",
       "      <td>US</td>\n",
       "      <td>34.44178</td>\n",
       "      <td>-119.81979</td>\n",
       "      <td>Best Western Plus South Coast Inn</td>\n",
       "      <td>93117</td>\n",
       "      <td>CA</td>\n",
       "      <td>3.0</td>\n",
       "      <td>this hotel was nice and quiet. did not know, t...</td>\n",
       "      <td>Best Western Plus Hotel</td>\n",
       "      <td>https://www.bestwestern.com/en_US/book/hotel-r...</td>\n",
       "      <td>[this, hotel, was, nice, and, quiet, did, not,...</td>\n",
       "    </tr>\n",
       "    <tr>\n",
       "      <th>1</th>\n",
       "      <td>2016-11-06</td>\n",
       "      <td>5th And San Carlos PO Box 3574</td>\n",
       "      <td>Carmel by the Sea</td>\n",
       "      <td>US</td>\n",
       "      <td>36.55722</td>\n",
       "      <td>-121.92194</td>\n",
       "      <td>Best Western Carmel's Town House Lodge</td>\n",
       "      <td>93921</td>\n",
       "      <td>CA</td>\n",
       "      <td>4.0</td>\n",
       "      <td>we stayed in the king suite with the separatio...</td>\n",
       "      <td>Clean rooms at solid rates in the heart of Carmel</td>\n",
       "      <td>http://www.bestwestern.com</td>\n",
       "      <td>[we, stayed, in, the, king, suite, with, the, ...</td>\n",
       "    </tr>\n",
       "  </tbody>\n",
       "</table>\n",
       "</div>"
      ],
      "text/plain": [
       "    dateAdded                         address               city country  \\\n",
       "0  2018-01-18                 5620 Calle Real             Goleta      US   \n",
       "1  2016-11-06  5th And San Carlos PO Box 3574  Carmel by the Sea      US   \n",
       "\n",
       "   latitude  longitude                                    name postalCode  \\\n",
       "0  34.44178 -119.81979       Best Western Plus South Coast Inn      93117   \n",
       "1  36.55722 -121.92194  Best Western Carmel's Town House Lodge      93921   \n",
       "\n",
       "  province  reviews.rating                                       reviews.text  \\\n",
       "0       CA             3.0  this hotel was nice and quiet. did not know, t...   \n",
       "1       CA             4.0  we stayed in the king suite with the separatio...   \n",
       "\n",
       "                                       reviews.title  \\\n",
       "0                            Best Western Plus Hotel   \n",
       "1  Clean rooms at solid rates in the heart of Carmel   \n",
       "\n",
       "                                            websites  \\\n",
       "0  https://www.bestwestern.com/en_US/book/hotel-r...   \n",
       "1                         http://www.bestwestern.com   \n",
       "\n",
       "                              tokenized_reviews_text  \n",
       "0  [this, hotel, was, nice, and, quiet, did, not,...  \n",
       "1  [we, stayed, in, the, king, suite, with, the, ...  "
      ]
     },
     "execution_count": 25,
     "metadata": {},
     "output_type": "execute_result"
    }
   ],
   "source": [
    "# tokenize reviews.text column and add to a new column tokenized_reviews_text\n",
    "hotel_reviews_modified_df['tokenized_reviews_text'] = hotel_reviews_modified_df['reviews.text'].apply(lambda y: TextBlob(y).words)\n",
    "\n",
    "# diplay tokenized_reviews_text and sentiment_polarity_reviews_text columns\n",
    "hotel_reviews_modified_df.head(2)"
   ]
  },
  {
   "cell_type": "code",
   "execution_count": 26,
   "metadata": {},
   "outputs": [
    {
     "name": "stdout",
     "output_type": "stream",
     "text": [
      "Hello! Welcome to InnSight, your personal hotel recommender system. Please choose a state to get started.\n"
     ]
    }
   ],
   "source": [
    "# Greet user\n",
    "print(du.greet_user())"
   ]
  },
  {
   "cell_type": "code",
   "execution_count": 27,
   "metadata": {},
   "outputs": [
    {
     "name": "stdout",
     "output_type": "stream",
     "text": [
      "['CA' 'KY' 'LA' 'CO' 'IL' 'IN' 'FL' 'AK' 'GA' 'AL' 'AZ' 'AR' 'OR' 'WA'\n",
      " 'UT' 'TX' 'TN' 'SC' 'PA' 'OH' 'NY' 'NM' 'MD' 'MI' 'MS' 'MO' 'IA' 'VA'\n",
      " 'WI' 'HI' 'ID' 'NV' 'WV' 'WY' 'KS' 'MN' 'NE' 'ND' 'DE' 'OK' 'NC' 'MT'\n",
      " 'SD' 'RI' 'NJ' 'MA' 'NH' 'ME' 'VT' 'CT']\n"
     ]
    }
   ],
   "source": [
    "# Show the list of unique states\n",
    "print(du.get_state(hotel_reviews_modified_df))"
   ]
  },
  {
   "cell_type": "code",
   "execution_count": 28,
   "metadata": {},
   "outputs": [
    {
     "name": "stdout",
     "output_type": "stream",
     "text": [
      "You entered: CO\n"
     ]
    }
   ],
   "source": [
    "# Let the user choose a state\n",
    "state = input(\"Please enter a state: \")\n",
    "state = state.upper()\n",
    "\n",
    "# Printing the user input\n",
    "print(\"You entered:\", state)"
   ]
  },
  {
   "cell_type": "code",
   "execution_count": 16,
   "metadata": {},
   "outputs": [
    {
     "name": "stdout",
     "output_type": "stream",
     "text": [
      "Here are the cities in LA :\n",
      "['New Orleans' 'Denham Springs' 'Winnfield' 'Marrero' 'Many' 'Lafayette'\n",
      " 'Vinton' 'Metairie' 'Monroe' 'Baton Rouge' 'Ruston' 'Alexandria'\n",
      " 'Chalmette' 'Sulphur' 'Gretna' 'Lake Charles' 'Bossier City' 'Port Allen'\n",
      " 'DeRidder' 'Prairieville' 'Houma']\n"
     ]
    }
   ],
   "source": [
    "# Show the list of cities in the chosen state\n",
    "print(\"Here are the cities in\", state, \":\")\n",
    "print(du.get_cities(hotel_reviews_modified_df,state))"
   ]
  },
  {
   "cell_type": "code",
   "execution_count": 29,
   "metadata": {},
   "outputs": [
    {
     "name": "stdout",
     "output_type": "stream",
     "text": [
      "Top 5 Hotels in Denham Springs\n",
      "name\n",
      "Hampton Inn Baton Rouge/Denham Springs    4.0\n",
      "Name: reviews.rating, dtype: float64\n"
     ]
    }
   ],
   "source": [
    "# Example usage\n",
    "city_name = input(\"Enter the city name: \")\n",
    "top_hotels = du.recommend_top_hotels(hotel_reviews_modified_df,city_name)\n",
    "print(\"Top 5 Hotels in\", city_name)\n",
    "print(top_hotels)"
   ]
  },
  {
   "cell_type": "code",
   "execution_count": 30,
   "metadata": {},
   "outputs": [
    {
     "name": "stdout",
     "output_type": "stream",
     "text": [
      "You chose HAMPTON INN BATON ROUGE/DENHAM SPRINGS\n",
      "Sentiment analysis of reviews for HAMPTON INN BATON ROUGE/DENHAM SPRINGS :\n",
      "reviews.text\n",
      "Good    1\n",
      "Name: count, dtype: int64\n"
     ]
    }
   ],
   "source": [
    "# hotel_name = input(\"Enter the hotel name: \")\n",
    "# print(f\"Sentiment analysis of reviews for '\" + hotel_name + \"'\")\n",
    "# sentiment_counts = du.categorize_reviews(hotel_reviews_modified_df,hotel_name)\n",
    "# print(sentiment_counts)\n",
    "\n",
    "# # Analyze sentiment of reviews for a hotel\n",
    "hotel_name = input(\"Please enter a hotel name: \")\n",
    "hotel_name = hotel_name.upper()\n",
    "print(\"You chose\", hotel_name)\n",
    "print(\"Sentiment analysis of reviews for\", hotel_name, \":\")\n",
    "print(du.categorize_reviews(hotel_reviews_modified_df,hotel_name))"
   ]
  }
 ],
 "metadata": {
  "kernelspec": {
   "display_name": "dev",
   "language": "python",
   "name": "python3"
  },
  "language_info": {
   "codemirror_mode": {
    "name": "ipython",
    "version": 3
   },
   "file_extension": ".py",
   "mimetype": "text/x-python",
   "name": "python",
   "nbconvert_exporter": "python",
   "pygments_lexer": "ipython3",
   "version": "3.11.5"
  }
 },
 "nbformat": 4,
 "nbformat_minor": 2
}
